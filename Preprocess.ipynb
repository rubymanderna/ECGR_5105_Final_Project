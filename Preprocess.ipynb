{
 "cells": [
  {
   "cell_type": "code",
   "execution_count": 1,
   "id": "fd76ca2d-c5f6-42df-9bb5-9b803295a545",
   "metadata": {},
   "outputs": [],
   "source": [
    "import numpy as np # linear algebra\n",
    "import pandas as pd # data processing, CSV file I/O (e.g. pd.read_csv)\n",
    "import matplotlib.pyplot as plt # visualizing data\n",
    "import seaborn as sns # visualizing data with stunning default theme\n",
    "import sklearn # contain algorithms\n",
    "import warnings\n",
    "warnings.filterwarnings('ignore')\n"
   ]
  },
  {
   "cell_type": "code",
   "execution_count": 2,
   "id": "32bd7de7-f7ac-45e9-9e63-43ca6fe4576d",
   "metadata": {},
   "outputs": [
    {
     "data": {
      "text/html": [
       "<div>\n",
       "<style scoped>\n",
       "    .dataframe tbody tr th:only-of-type {\n",
       "        vertical-align: middle;\n",
       "    }\n",
       "\n",
       "    .dataframe tbody tr th {\n",
       "        vertical-align: top;\n",
       "    }\n",
       "\n",
       "    .dataframe thead th {\n",
       "        text-align: right;\n",
       "    }\n",
       "</style>\n",
       "<table border=\"1\" class=\"dataframe\">\n",
       "  <thead>\n",
       "    <tr style=\"text-align: right;\">\n",
       "      <th></th>\n",
       "      <th>filename</th>\n",
       "      <th>text</th>\n",
       "      <th>up_votes</th>\n",
       "      <th>down_votes</th>\n",
       "      <th>age</th>\n",
       "      <th>gender</th>\n",
       "      <th>accent</th>\n",
       "      <th>duration</th>\n",
       "    </tr>\n",
       "  </thead>\n",
       "  <tbody>\n",
       "    <tr>\n",
       "      <th>1</th>\n",
       "      <td>sample-000001</td>\n",
       "      <td>i've got to go to him</td>\n",
       "      <td>1</td>\n",
       "      <td>0</td>\n",
       "      <td>twenties</td>\n",
       "      <td>male</td>\n",
       "      <td>NaN</td>\n",
       "      <td>NaN</td>\n",
       "    </tr>\n",
       "    <tr>\n",
       "      <th>3</th>\n",
       "      <td>sample-000003</td>\n",
       "      <td>down below in the darkness were hundreds of pe...</td>\n",
       "      <td>4</td>\n",
       "      <td>0</td>\n",
       "      <td>twenties</td>\n",
       "      <td>male</td>\n",
       "      <td>us</td>\n",
       "      <td>NaN</td>\n",
       "    </tr>\n",
       "    <tr>\n",
       "      <th>5</th>\n",
       "      <td>sample-000005</td>\n",
       "      <td>down below in the darkness were hundreds of pe...</td>\n",
       "      <td>4</td>\n",
       "      <td>1</td>\n",
       "      <td>twenties</td>\n",
       "      <td>male</td>\n",
       "      <td>us</td>\n",
       "      <td>NaN</td>\n",
       "    </tr>\n",
       "    <tr>\n",
       "      <th>6</th>\n",
       "      <td>sample-000006</td>\n",
       "      <td>strange images passed through my mind</td>\n",
       "      <td>3</td>\n",
       "      <td>0</td>\n",
       "      <td>twenties</td>\n",
       "      <td>male</td>\n",
       "      <td>NaN</td>\n",
       "      <td>NaN</td>\n",
       "    </tr>\n",
       "    <tr>\n",
       "      <th>7</th>\n",
       "      <td>sample-000007</td>\n",
       "      <td>the sheep had taught him that</td>\n",
       "      <td>2</td>\n",
       "      <td>0</td>\n",
       "      <td>thirties</td>\n",
       "      <td>male</td>\n",
       "      <td>NaN</td>\n",
       "      <td>NaN</td>\n",
       "    </tr>\n",
       "  </tbody>\n",
       "</table>\n",
       "</div>"
      ],
      "text/plain": [
       "        filename                                               text  up_votes  \\\n",
       "1  sample-000001                              i've got to go to him         1   \n",
       "3  sample-000003  down below in the darkness were hundreds of pe...         4   \n",
       "5  sample-000005  down below in the darkness were hundreds of pe...         4   \n",
       "6  sample-000006              strange images passed through my mind         3   \n",
       "7  sample-000007                      the sheep had taught him that         2   \n",
       "\n",
       "   down_votes       age gender accent  duration  \n",
       "1           0  twenties   male    NaN       NaN  \n",
       "3           0  twenties   male     us       NaN  \n",
       "5           1  twenties   male     us       NaN  \n",
       "6           0  twenties   male    NaN       NaN  \n",
       "7           0  thirties   male    NaN       NaN  "
      ]
     },
     "execution_count": 2,
     "metadata": {},
     "output_type": "execute_result"
    }
   ],
   "source": [
    "# load dataset from input directory\n",
    "df = pd.read_csv(\"Desktop/ML_Final_Project/cv-valid-test.csv\")\n",
    "df[df['age'].notna()].head()"
   ]
  },
  {
   "cell_type": "code",
   "execution_count": 3,
   "id": "02ff062c-d110-4984-9dff-6ff26d5acd61",
   "metadata": {},
   "outputs": [
    {
     "name": "stdout",
     "output_type": "stream",
     "text": [
      "Number of files in the folder: 3995\n"
     ]
    }
   ],
   "source": [
    "import os\n",
    "\n",
    "\n",
    "folder_path = 'Desktop/ML_Final_Project/cv-valid-test'  # Replace this with the path to your folder\n",
    "\n",
    "# Get the list of files in the folder\n",
    "files = os.listdir(folder_path)\n",
    "\n",
    "# Print the number of files\n",
    "print(f'Number of files in the folder: {len(files)}')\n"
   ]
  },
  {
   "cell_type": "code",
   "execution_count": 4,
   "id": "57b8d184-6382-4e4c-9c75-f0214452fff5",
   "metadata": {},
   "outputs": [
    {
     "data": {
      "image/png": "[encoded data removed]",
      "text/plain": [
       "<Figure size 1500x500 with 1 Axes>"
      ]
     },
     "metadata": {},
     "output_type": "display_data"
    }
   ],
   "source": [
    "sns.set(rc={'figure.figsize':(15, 5)})\n",
    "sns.countplot(x=\"age\",\n",
    "        data=df[df['age'].notna()],\n",
    "        order=['teens', 'twenties', 'thirties', 'fourties', 'fifties', 'sixties', 'seventies', 'eighties'])\n",
    "\n",
    "plt.show()"
   ]
  },
  {
   "cell_type": "code",
   "execution_count": 5,
   "id": "7c7ed1bb-1fbe-44e0-935e-124c48b27b87",
   "metadata": {},
   "outputs": [
    {
     "data": {
      "text/html": [
       "<div>\n",
       "<style scoped>\n",
       "    .dataframe tbody tr th:only-of-type {\n",
       "        vertical-align: middle;\n",
       "    }\n",
       "\n",
       "    .dataframe tbody tr th {\n",
       "        vertical-align: top;\n",
       "    }\n",
       "\n",
       "    .dataframe thead th {\n",
       "        text-align: right;\n",
       "    }\n",
       "</style>\n",
       "<table border=\"1\" class=\"dataframe\">\n",
       "  <thead>\n",
       "    <tr style=\"text-align: right;\">\n",
       "      <th></th>\n",
       "      <th>filename</th>\n",
       "      <th>age</th>\n",
       "    </tr>\n",
       "  </thead>\n",
       "  <tbody>\n",
       "    <tr>\n",
       "      <th>0</th>\n",
       "      <td>sample-000001</td>\n",
       "      <td>twenties</td>\n",
       "    </tr>\n",
       "    <tr>\n",
       "      <th>1</th>\n",
       "      <td>sample-000003</td>\n",
       "      <td>twenties</td>\n",
       "    </tr>\n",
       "    <tr>\n",
       "      <th>2</th>\n",
       "      <td>sample-000005</td>\n",
       "      <td>twenties</td>\n",
       "    </tr>\n",
       "    <tr>\n",
       "      <th>3</th>\n",
       "      <td>sample-000006</td>\n",
       "      <td>twenties</td>\n",
       "    </tr>\n",
       "    <tr>\n",
       "      <th>4</th>\n",
       "      <td>sample-000007</td>\n",
       "      <td>thirties</td>\n",
       "    </tr>\n",
       "  </tbody>\n",
       "</table>\n",
       "</div>"
      ],
      "text/plain": [
       "        filename       age\n",
       "0  sample-000001  twenties\n",
       "1  sample-000003  twenties\n",
       "2  sample-000005  twenties\n",
       "3  sample-000006  twenties\n",
       "4  sample-000007  thirties"
      ]
     },
     "execution_count": 5,
     "metadata": {},
     "output_type": "execute_result"
    }
   ],
   "source": [
    "df = df[['filename','age']]\n",
    "data = df[df['age'].notna() ]\n",
    "data.reset_index(inplace=True, drop=True)\n",
    "data.head()"
   ]
  },
  {
   "cell_type": "code",
   "execution_count": 6,
   "id": "303e03f5-41df-440e-8f15-0e35bfad28a4",
   "metadata": {},
   "outputs": [
    {
     "data": {
      "text/plain": [
       "(1542, 2)"
      ]
     },
     "execution_count": 6,
     "metadata": {},
     "output_type": "execute_result"
    }
   ],
   "source": [
    "cleanup_nums = {\"gender\": {\"male\":1,\"female\":0,\"other\":0.5}}\n",
    "data = data.replace(cleanup_nums)\n",
    "data.shape"
   ]
  },
  {
   "cell_type": "code",
   "execution_count": 8,
   "id": "6137af2b-d4a0-41dd-b3bd-906349e4f60b",
   "metadata": {},
   "outputs": [
    {
     "name": "stdout",
     "output_type": "stream",
     "text": [
      "features:  191\n"
     ]
    }
   ],
   "source": [
    "import librosa\n",
    "ds_path = \"Desktop/ML_Final_Project/cv-valid-test\"\n",
    "import numpy as np\n",
    "\n",
    "def feature_extraction(filename, sampling_rate=22050):\n",
    "    path = \"{}/{}.mp3\".format(ds_path, filename)\n",
    "    features = list()\n",
    "    try:\n",
    "        audio, _ = librosa.load(path, sr=sampling_rate)\n",
    "    except:\n",
    "        return None\n",
    "\n",
    "    # Chroma Features\n",
    "    chroma_stft = np.mean(librosa.feature.chroma_stft(y=audio, sr=sampling_rate).T, axis=0)\n",
    "    features.extend(chroma_stft)\n",
    "\n",
    "    chroma_cqt = np.mean(librosa.feature.chroma_cqt(y=audio, sr=sampling_rate).T, axis=0)\n",
    "    features.extend(chroma_cqt)\n",
    "\n",
    "    # Corrected chroma_vqt usage\n",
    "    chroma_vqt = np.mean(librosa.feature.chroma_vqt(y=audio, sr=sampling_rate, intervals='ji5').T, axis=0)\n",
    "    features.extend(chroma_vqt)\n",
    "\n",
    "    # Spectrogram Features\n",
    "    melspectrogram = np.mean(librosa.feature.melspectrogram(y=audio, sr=sampling_rate).T, axis=0)\n",
    "    features.extend(melspectrogram)\n",
    "\n",
    "    # MFCC Features\n",
    "    mfcc = librosa.feature.mfcc(y=audio, sr=sampling_rate)\n",
    "    for el in mfcc:\n",
    "        features.append(np.mean(el))\n",
    "\n",
    "    # RMS Feature\n",
    "    rms_value = np.mean(librosa.feature.rms(y=audio))\n",
    "    features.append(rms_value)\n",
    "\n",
    "    # Spectral Features\n",
    "    spectral_centroid = np.mean(librosa.feature.spectral_centroid(y=audio, sr=sampling_rate))\n",
    "    features.append(spectral_centroid)\n",
    "\n",
    "    spectral_bandwidth = np.mean(librosa.feature.spectral_bandwidth(y=audio, sr=sampling_rate))\n",
    "    features.append(spectral_bandwidth)\n",
    "\n",
    "    spectral_contrast = np.mean(librosa.feature.spectral_contrast(y=audio, sr=sampling_rate))\n",
    "    features.append(spectral_contrast)\n",
    "\n",
    "    spectral_flatness = np.mean(librosa.feature.spectral_flatness(y=audio))\n",
    "    features.append(spectral_flatness)\n",
    "\n",
    "    spectral_rolloff = np.mean(librosa.feature.spectral_rolloff(y=audio, sr=sampling_rate))\n",
    "    features.append(spectral_rolloff)\n",
    "\n",
    "    # Additional Feature\n",
    "    tonnetz = np.mean(librosa.feature.tonnetz(y=audio, sr=sampling_rate))\n",
    "    features.append(tonnetz)\n",
    "\n",
    "    return features\n",
    "\n",
    "\n",
    "\n",
    "\n",
    "\n",
    "\n",
    "\n",
    "features = feature_extraction(data.iloc[0]['filename'])\n",
    "print(\"features: \", len(features))"
   ]
  },
  {
   "cell_type": "code",
   "execution_count": 10,
   "id": "e197ba15-0a50-43d3-bbda-8db5c7fcba49",
   "metadata": {},
   "outputs": [
    {
     "name": "stdout",
     "output_type": "stream",
     "text": [
      "1541/1541"
     ]
    }
   ],
   "source": [
    "def create_df_features(orig):\n",
    "    new_rows = list()\n",
    "    tot_rows = len(orig)-1\n",
    "    stop_counter = 73768\n",
    "\n",
    "    for idx, row in orig.iterrows():\n",
    "        if idx >= stop_counter:\n",
    "            break\n",
    "        print(\"\\r\", end=\"\")\n",
    "        print(\"{}/{}\".format(idx, tot_rows), end=\"\", flush=True)\n",
    "        features = feature_extraction(row['filename'])\n",
    "        if features is not None:\n",
    "            features.append(row['age'])\n",
    "            new_rows.append(features)\n",
    "\n",
    "    # Extract the correct number of features from the first row (assuming all rows have the same number of features)\n",
    "    try:\n",
    "        num_features = len(new_rows[0])\n",
    "        feature_columns = [f\"feature_{i}\" for i in range(1, num_features + 1)]\n",
    "        return pd.DataFrame(new_rows, columns=feature_columns)\n",
    "    except:\n",
    "        return pd.DataFrame()\n",
    "\n",
    "\n",
    "df_features = create_df_features(data)\n",
    "df_features.to_csv('Desktop/ML_Final_Project/CNN_test_dataframe.csv', index=False)\n"
   ]
  }
 ],
 "metadata": {
  "kernelspec": {
   "display_name": "Python 3 (ipykernel)",
   "language": "python",
   "name": "python3"
  },
  "language_info": {
   "codemirror_mode": {
    "name": "ipython",
    "version": 3
   },
   "file_extension": ".py",
   "mimetype": "text/x-python",
   "name": "python",
   "nbconvert_exporter": "python",
   "pygments_lexer": "ipython3",
   "version": "3.9.8"
  }
 },
 "nbformat": 4,
 "nbformat_minor": 5
}
