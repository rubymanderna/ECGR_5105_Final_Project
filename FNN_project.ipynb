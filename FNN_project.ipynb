{
  "cells": [
    {
      "cell_type": "markdown",
      "metadata": {
        "id": "view-in-github",
        "colab_type": "text"
      },
      "source": [
        "<a href=\"https://colab.research.google.com/github/indhu68/Intro_to_ML_project/blob/main/FNN_project.ipynb\" target=\"_parent\"><img src=\"https://colab.research.google.com/assets/colab-badge.svg\" alt=\"Open In Colab\"/></a>"
      ]
    },
    {
      "cell_type": "code",
      "execution_count": 1,
      "metadata": {
        "colab": {
          "base_uri": "https://localhost:8080/"
        },
        "id": "UEGxrIZ8LeQs",
        "outputId": "ff6f4aee-b581-40cf-aa6a-14d7c2d7dc2b"
      },
      "outputs": [
        {
          "output_type": "execute_result",
          "data": {
            "text/plain": [
              "<torch._C.Generator at 0x7bcce0f235d0>"
            ]
          },
          "metadata": {},
          "execution_count": 1
        }
      ],
      "source": [
        "import numpy as np\n",
        "import matplotlib.pyplot as plt\n",
        "from scipy import stats\n",
        "import pandas as pd\n",
        "import torch\n",
        "from torch.utils.data import DataLoader, TensorDataset\n",
        "from sklearn.model_selection import train_test_split\n",
        "from sklearn.preprocessing import StandardScaler\n",
        "from sklearn.preprocessing import MinMaxScaler\n",
        "from sklearn.metrics import accuracy_score\n",
        "import torch.optim as optim\n",
        "torch.set_printoptions(edgeitems=2, linewidth=75)\n",
        "torch.manual_seed(123)"
      ]
    },
    {
      "cell_type": "code",
      "execution_count": 2,
      "metadata": {
        "id": "OEhtIax5VQBq"
      },
      "outputs": [],
      "source": [
        "from sklearn.metrics import accuracy_score, classification_report"
      ]
    },
    {
      "cell_type": "code",
      "source": [
        "device = torch.device(\"cuda\" if torch.cuda.is_available() else \"cpu\")\n",
        "print(\"Using device:\", device)"
      ],
      "metadata": {
        "colab": {
          "base_uri": "https://localhost:8080/"
        },
        "id": "CdZ_3-rt4HrD",
        "outputId": "05b5b789-cc44-48af-a163-27cca3be51c6"
      },
      "execution_count": 3,
      "outputs": [
        {
          "output_type": "stream",
          "name": "stdout",
          "text": [
            "Using device: cuda\n"
          ]
        }
      ]
    },
    {
      "cell_type": "code",
      "execution_count": 4,
      "metadata": {
        "id": "WU9Efz2eLmw7"
      },
      "outputs": [],
      "source": [
        "# Load the data from the URL\n",
        "data_url = \"https://raw.githubusercontent.com/indhu68/Intro_to_ML_project/main/train_dataframe.csv\"\n",
        "data = pd.read_csv(data_url)\n",
        "\n",
        "# Remove the 'label' column and store it separately\n",
        "removed_column = data.pop('label')  # Assuming 'label' is the name of the column to be removed\n",
        "Y = pd.DataFrame({'age group': removed_column})\n",
        "\n",
        "# Remaining data\n",
        "X = data.values\n",
        "\n"
      ]
    },
    {
      "cell_type": "code",
      "execution_count": 5,
      "metadata": {
        "colab": {
          "base_uri": "https://localhost:8080/"
        },
        "id": "OdSfjliihL6f",
        "outputId": "8cc11bc3-6b73-434b-f7d9-e37867124f2d"
      },
      "outputs": [
        {
          "output_type": "execute_result",
          "data": {
            "text/plain": [
              "(30694, 23)"
            ]
          },
          "metadata": {},
          "execution_count": 5
        }
      ],
      "source": [
        "sc = StandardScaler()\n",
        "X = sc.fit_transform(X)\n",
        "X.shape"
      ]
    },
    {
      "cell_type": "code",
      "execution_count": 6,
      "metadata": {
        "colab": {
          "base_uri": "https://localhost:8080/"
        },
        "id": "Q39k1NojWTRQ",
        "outputId": "a1ea8802-a30d-43b5-a2af-a834b2597557"
      },
      "outputs": [
        {
          "output_type": "execute_result",
          "data": {
            "text/plain": [
              "(30694,)"
            ]
          },
          "metadata": {},
          "execution_count": 6
        }
      ],
      "source": [
        "label_mapping = {label: idx for idx, label in enumerate(np.unique(Y['age group']))}\n",
        "Y = np.array([label_mapping[label] for label in Y['age group']])\n",
        "X = torch.tensor(X, dtype=torch.float32)\n",
        "Y.shape"
      ]
    },
    {
      "cell_type": "code",
      "execution_count": 7,
      "metadata": {
        "id": "Pmpdc4EUVRLw"
      },
      "outputs": [],
      "source": [
        "# Split the data into training and testing sets\n",
        "X_train, X_test, y_train, y_test = train_test_split(X, Y, test_size=0.2, random_state=42)\n",
        "\n",
        "# Convert NumPy arrays to PyTorch tensors\n",
        "X_train_tensor = torch.FloatTensor(X_train)\n",
        "y_train_tensor = torch.LongTensor(y_train)\n",
        "X_test_tensor = torch.FloatTensor(X_test)\n",
        "y_test_tensor = torch.LongTensor(y_test)\n",
        "\n",
        "\n",
        "\n",
        "\n",
        "\n"
      ]
    },
    {
      "cell_type": "code",
      "execution_count": 12,
      "metadata": {
        "id": "QaXYx0MQZJvz"
      },
      "outputs": [],
      "source": [
        "\n",
        "import torch.nn as nn\n",
        "import torch.optim as optim\n",
        "import numpy as np\n",
        "class SimpleNN(nn.Module):\n",
        "    def __init__(self, input_size, hidden_size, output_size):\n",
        "        super(SimpleNN, self).__init__()\n",
        "        self.fc1 = nn.Linear(input_size, hidden_size)\n",
        "        self.fc2 = nn.Linear(hidden_size, hidden_size)  # Using hidden_size here too\n",
        "        self.fc3 = nn.Linear(hidden_size, hidden_size)  # And here\n",
        "        self.fc4 = nn.Linear(hidden_size, output_size)\n",
        "        self.relu = nn.ReLU()\n",
        "        # Dropout layer to prevent overfitting\n",
        "        self.dropout = nn.Dropout(p=0.2)\n",
        "\n",
        "    def forward(self, x):\n",
        "        x = self.relu(self.fc1(x))\n",
        "        x = self.dropout(x)\n",
        "        x = self.relu(self.fc2(x))\n",
        "        x = self.dropout(x)\n",
        "        x = self.relu(self.fc3(x))\n",
        "        x = self.dropout(x)\n",
        "        x = self.fc4(x)\n",
        "        return x\n",
        "\n",
        "\n"
      ]
    },
    {
      "cell_type": "code",
      "source": [
        "from sklearn.utils.class_weight import compute_class_weight\n",
        "\n",
        "def compute_class_weights(y):\n",
        "    class_weights = compute_class_weight(  class_weight = 'balanced', classes = np.unique(y),y =  y)\n",
        "    return class_weights\n",
        "\n",
        "# Calculate class weights based on class distribution\n",
        "class_weights = compute_class_weights(y_train)\n",
        "\n",
        "# Convert class weights to a PyTorch tensor\n",
        "class_weights_tensor =  torch.FloatTensor(class_weights).to(device)\n",
        "\n",
        "# Use weighted cross-entropy loss\n",
        "criterion = nn.CrossEntropyLoss(weight=class_weights_tensor)\n"
      ],
      "metadata": {
        "id": "3PdP3t7J6Sks"
      },
      "execution_count": 13,
      "outputs": []
    },
    {
      "cell_type": "code",
      "execution_count": 14,
      "metadata": {
        "id": "knFfUd97ZLw1"
      },
      "outputs": [],
      "source": [
        "input_size = X_train.shape[1]\n",
        "hidden_size = 128  # You can adjust this based on your problem\n",
        "output_size = len(np.unique(y_train))\n",
        "# Now, when instantiating the model, it should match:\n",
        "model = SimpleNN(input_size, hidden_size, output_size).to(device)\n",
        "X_train_tensor = X_train_tensor.to(device)  # Move training data to GPU\n",
        "y_train_tensor = y_train_tensor.to(device)\n",
        "X_test_tensor = X_test_tensor.to(device)  # Move test data to GPU\n",
        "y_test_tensor = y_test_tensor.to(device)\n",
        "optimizer = optim.SGD(model.parameters(), lr=0.01)"
      ]
    },
    {
      "cell_type": "code",
      "execution_count": 15,
      "metadata": {
        "id": "q55KSqotXs4c",
        "colab": {
          "base_uri": "https://localhost:8080/"
        },
        "outputId": "1c54853b-85f7-4ccc-a92e-a9fe049cbe71"
      },
      "outputs": [
        {
          "output_type": "stream",
          "name": "stdout",
          "text": [
            "Epoch [100/500], Loss: 1.2152, Training Accuracy: 65.61%, Validation Accuracy: 59.94%\n",
            "Epoch [200/500], Loss: 0.7394, Training Accuracy: 74.33%, Validation Accuracy: 66.64%\n",
            "Epoch [300/500], Loss: 0.5854, Training Accuracy: 77.65%, Validation Accuracy: 68.61%\n",
            "Epoch [400/500], Loss: 0.5027, Training Accuracy: 79.44%, Validation Accuracy: 69.64%\n",
            "Epoch [500/500], Loss: 0.6261, Training Accuracy: 80.89%, Validation Accuracy: 69.70%\n"
          ]
        }
      ],
      "source": [
        "num_epochs = 500\n",
        "batch_size = 32\n",
        "for epoch in range(num_epochs):\n",
        "    model.train()\n",
        "    for i in range(0, len(X_train_tensor), batch_size):\n",
        "        inputs = X_train_tensor[i:i+batch_size]\n",
        "        labels = y_train_tensor[i:i+batch_size]\n",
        "\n",
        "        # Forward pass\n",
        "        outputs = model(inputs)\n",
        "        loss = criterion(outputs, labels)\n",
        "\n",
        "        # Backward pass and optimization\n",
        "        optimizer.zero_grad()\n",
        "        loss.backward()\n",
        "        optimizer.step()\n",
        "\n",
        "    if (epoch + 1) % 100 == 0:\n",
        "        model.eval()\n",
        "        with torch.no_grad():\n",
        "            train_outputs = model(X_train_tensor)\n",
        "            val_outputs = model(X_test_tensor)\n",
        "            _, train_predicted = torch.max(train_outputs, 1)\n",
        "            train_accuracy = accuracy_score(y_train, train_predicted.cpu().numpy())\n",
        "            _, test_predicted = torch.max(val_outputs, 1)\n",
        "            test_accuracy = accuracy_score(y_test, test_predicted.cpu().numpy())  # Move back to CPU for metrics\n",
        "            print(f'Epoch [{epoch+1}/{num_epochs}], Loss: {loss.item():.4f}, Training Accuracy: {train_accuracy * 100:.2f}%, Validation Accuracy: {test_accuracy * 100:.2f}%')\n",
        "        model.train()"
      ]
    },
    {
      "cell_type": "code",
      "source": [
        "# Load the data from the URL\n",
        "data_url = \"https://raw.githubusercontent.com/indhu68/Intro_to_ML_project/main/test_dataframe.csv\"\n",
        "data = pd.read_csv(data_url)\n",
        "\n",
        "# Remove the 'label' column and store it separately\n",
        "removed_column = data.pop('label')  # Assuming 'label' is the name of the column to be removed\n",
        "Y = pd.DataFrame({'age group': removed_column})\n",
        "\n",
        "# Remaining data\n",
        "X = data.values\n",
        "sc = StandardScaler()\n",
        "X = sc.fit_transform(X)\n",
        "label_mapping = {label: idx for idx, label in enumerate(np.unique(Y['age group']))}\n",
        "y_test = np.array([label_mapping[label] for label in Y['age group']])\n",
        "X_test= torch.tensor(X, dtype=torch.float32)\n",
        "X_test_tensor = torch.FloatTensor(X_test)\n",
        "X_test_tensor = X_test_tensor.to(device)"
      ],
      "metadata": {
        "id": "6rwl6-JCj1yB"
      },
      "execution_count": 16,
      "outputs": []
    },
    {
      "cell_type": "code",
      "execution_count": 18,
      "metadata": {
        "colab": {
          "base_uri": "https://localhost:8080/"
        },
        "id": "8Y2vHwWOXw_d",
        "outputId": "1412a795-b722-418f-c744-71d80093f65a"
      },
      "outputs": [
        {
          "output_type": "stream",
          "name": "stdout",
          "text": [
            "Accuracy on the test set: 70.10%\n",
            "[7 6 6 ... 1 6 7]\n",
            "              precision    recall  f1-score   support\n",
            "\n",
            "    eighties       0.57      0.80      0.67         5\n",
            "     fifties       0.74      0.73      0.74       205\n",
            "    fourties       0.67      0.72      0.70       236\n",
            "   seventies       0.63      0.92      0.75        36\n",
            "     sixties       0.78      0.88      0.82        88\n",
            "       teens       0.61      0.71      0.65       117\n",
            "    thirties       0.71      0.65      0.68       389\n",
            "    twenties       0.72      0.66      0.69       466\n",
            "\n",
            "    accuracy                           0.70      1542\n",
            "   macro avg       0.68      0.76      0.71      1542\n",
            "weighted avg       0.70      0.70      0.70      1542\n",
            "\n"
          ]
        }
      ],
      "source": [
        "model.eval()\n",
        "with torch.no_grad():\n",
        "    outputs = model(X_test_tensor)\n",
        "    _, predicted = torch.max(outputs, 1)\n",
        "    accuracy = accuracy_score(y_test, predicted.cpu().numpy())  # Move back to CPU for metrics\n",
        "    print(f'Accuracy on the test set: {accuracy * 100:.2f}%')\n",
        "\n",
        "# Convert predicted labels back to original age group strings\n",
        "predicted_labels = [label for label, idx in label_mapping.items() if idx in y_test]\n",
        "print(predicted.cpu().numpy())\n",
        "print(classification_report(y_test, predicted.cpu().numpy(), target_names=predicted_labels))"
      ]
    }
  ],
  "metadata": {
    "colab": {
      "provenance": [],
      "gpuType": "T4",
      "include_colab_link": true
    },
    "kernelspec": {
      "display_name": "Python 3",
      "name": "python3"
    },
    "language_info": {
      "name": "python"
    },
    "accelerator": "GPU"
  },
  "nbformat": 4,
  "nbformat_minor": 0
}