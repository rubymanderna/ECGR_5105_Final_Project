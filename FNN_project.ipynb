{
  "cells": [
    {
      "cell_type": "markdown",
      "metadata": {
        "id": "view-in-github",
        "colab_type": "text"
      },
      "source": [
        "<a href=\"https://colab.research.google.com/github/saikrishna1108/ECGR_5105_Final_Project/blob/main/FNN_project.ipynb\" target=\"_parent\"><img src=\"https://colab.research.google.com/assets/colab-badge.svg\" alt=\"Open In Colab\"/></a>"
      ]
    },
    {
      "cell_type": "code",
      "execution_count": 1,
      "metadata": {
        "colab": {
          "base_uri": "https://localhost:8080/"
        },
        "id": "UEGxrIZ8LeQs",
        "outputId": "7f91be81-13aa-48f8-ecc3-98813ca358d7"
      },
      "outputs": [
        {
          "output_type": "execute_result",
          "data": {
            "text/plain": [
              "<torch._C.Generator at 0x7890b346b410>"
            ]
          },
          "metadata": {},
          "execution_count": 1
        }
      ],
      "source": [
        "import numpy as np\n",
        "import matplotlib.pyplot as plt\n",
        "from scipy import stats\n",
        "import pandas as pd\n",
        "import torch\n",
        "from torch.utils.data import DataLoader, TensorDataset\n",
        "from sklearn.model_selection import train_test_split\n",
        "from sklearn.preprocessing import StandardScaler\n",
        "from sklearn.preprocessing import MinMaxScaler\n",
        "from sklearn.metrics import accuracy_score\n",
        "import torch.optim as optim\n",
        "torch.set_printoptions(edgeitems=2, linewidth=75)\n",
        "torch.manual_seed(123)"
      ]
    },
    {
      "cell_type": "code",
      "execution_count": 14,
      "metadata": {
        "id": "OEhtIax5VQBq"
      },
      "outputs": [],
      "source": [
        "from sklearn.metrics import accuracy_score, classification_report"
      ]
    },
    {
      "cell_type": "code",
      "source": [
        "device = torch.device(\"cuda\" if torch.cuda.is_available() else \"cpu\")\n",
        "print(\"Using device:\", device)"
      ],
      "metadata": {
        "colab": {
          "base_uri": "https://localhost:8080/"
        },
        "id": "CdZ_3-rt4HrD",
        "outputId": "5ca2e7b5-4d79-4c2d-e633-adb7ab547b50"
      },
      "execution_count": 15,
      "outputs": [
        {
          "output_type": "stream",
          "name": "stdout",
          "text": [
            "Using device: cuda\n"
          ]
        }
      ]
    },
    {
      "cell_type": "code",
      "execution_count": 16,
      "metadata": {
        "colab": {
          "base_uri": "https://localhost:8080/"
        },
        "id": "WU9Efz2eLmw7",
        "outputId": "4c39eb4f-9b94-4d54-8f9f-ae4243d994f2"
      },
      "outputs": [
        {
          "output_type": "execute_result",
          "data": {
            "text/plain": [
              "(17846, 23)"
            ]
          },
          "metadata": {},
          "execution_count": 16
        }
      ],
      "source": [
        "data = pd.read_csv(\"/content/drive/MyDrive/train11_dataframe.csv\")\n",
        "removed_column = data.pop('label')\n",
        "Y = pd.DataFrame({'age group': removed_column})\n",
        "X = data.values\n",
        "X.shape"
      ]
    },
    {
      "cell_type": "code",
      "execution_count": 17,
      "metadata": {
        "colab": {
          "base_uri": "https://localhost:8080/"
        },
        "id": "OdSfjliihL6f",
        "outputId": "aeccc204-d5d7-46bc-980e-55c3afbd848b"
      },
      "outputs": [
        {
          "output_type": "execute_result",
          "data": {
            "text/plain": [
              "(17846, 23)"
            ]
          },
          "metadata": {},
          "execution_count": 17
        }
      ],
      "source": [
        "sc = StandardScaler()\n",
        "X = sc.fit_transform(X)\n",
        "X.shape"
      ]
    },
    {
      "cell_type": "code",
      "execution_count": 18,
      "metadata": {
        "colab": {
          "base_uri": "https://localhost:8080/"
        },
        "id": "Q39k1NojWTRQ",
        "outputId": "cf738f43-56db-4385-862a-5c3d0d28a24c"
      },
      "outputs": [
        {
          "output_type": "execute_result",
          "data": {
            "text/plain": [
              "(17846,)"
            ]
          },
          "metadata": {},
          "execution_count": 18
        }
      ],
      "source": [
        "label_mapping = {label: idx for idx, label in enumerate(np.unique(Y['age group']))}\n",
        "Y = np.array([label_mapping[label] for label in Y['age group']])\n",
        "X = torch.tensor(X, dtype=torch.float32)\n",
        "Y.shape"
      ]
    },
    {
      "cell_type": "code",
      "execution_count": 19,
      "metadata": {
        "id": "Pmpdc4EUVRLw"
      },
      "outputs": [],
      "source": [
        "# Split the data into training and testing sets\n",
        "X_train, X_test, y_train, y_test = train_test_split(X, Y, test_size=0.2, random_state=42)\n",
        "\n",
        "# Convert NumPy arrays to PyTorch tensors\n",
        "X_train_tensor = torch.FloatTensor(X_train)\n",
        "y_train_tensor = torch.LongTensor(y_train)\n",
        "X_test_tensor = torch.FloatTensor(X_test)\n",
        "y_test_tensor = torch.LongTensor(y_test)\n",
        "\n",
        "\n",
        "\n",
        "\n",
        "\n"
      ]
    },
    {
      "cell_type": "code",
      "execution_count": 36,
      "metadata": {
        "id": "QaXYx0MQZJvz"
      },
      "outputs": [],
      "source": [
        "import torch.nn as nn\n",
        "# Define the neural network model\n",
        "class SimpleNN(nn.Module):\n",
        "    def __init__(self, input_size, hidden_size, output_size):\n",
        "        super(SimpleNN, self).__init__()\n",
        "        self.fc1 = nn.Linear(input_size, 32)\n",
        "        self.fc2 = nn.Linear(32, 64)\n",
        "        self.fc3 = nn.Linear(64, 128)\n",
        "        self.fc4 = nn.Linear( 128, 64)\n",
        "        self.fc5 = nn.Linear(64,32)\n",
        "        self.fc6 = nn.Linear(32,output_size)\n",
        "        self.tanh = nn.Tanh()\n",
        "        self.soft = nn.Softmax(dim=1)\n",
        "        self.relu = nn.ReLU()\n",
        "        self.leaky_relu = nn.LeakyReLU(negative_slope=0.01)\n",
        "    def forward(self, x):\n",
        "        x = self.tanh(self.fc1(x))\n",
        "        x = self.tanh(self.fc2(x))\n",
        "        #x = self.relu(self.fc3(x))\n",
        "        #x = self.relu(self.fc4(x))\n",
        "        x = self.soft(self.fc5(x))\n",
        "        x = self.fc6(x)\n",
        "        return x"
      ]
    },
    {
      "cell_type": "code",
      "source": [
        "from sklearn.utils.class_weight import compute_class_weight\n",
        "\n",
        "def compute_class_weights(y):\n",
        "    class_weights = compute_class_weight(  class_weight = 'balanced', classes = np.unique(y),y =  y)\n",
        "    return class_weights\n",
        "\n",
        "# Calculate class weights based on class distribution\n",
        "class_weights = compute_class_weights(y_train)\n",
        "\n",
        "# Convert class weights to a PyTorch tensor\n",
        "class_weights_tensor =  torch.FloatTensor(class_weights).to(device)\n",
        "\n",
        "# Use weighted cross-entropy loss\n",
        "criterion = nn.CrossEntropyLoss(weight=class_weights_tensor)\n"
      ],
      "metadata": {
        "id": "3PdP3t7J6Sks"
      },
      "execution_count": 21,
      "outputs": []
    },
    {
      "cell_type": "code",
      "execution_count": 37,
      "metadata": {
        "id": "knFfUd97ZLw1"
      },
      "outputs": [],
      "source": [
        "input_size = X_train.shape[1]\n",
        "hidden_size = 64  # You can adjust this based on your problem\n",
        "output_size = len(np.unique(y_train))\n",
        "model = SimpleNN(input_size, hidden_size, output_size).to(device)\n",
        "X_train_tensor = X_train_tensor.to(device)  # Move training data to GPU\n",
        "y_train_tensor = y_train_tensor.to(device)\n",
        "X_test_tensor = X_test_tensor.to(device)  # Move test data to GPU\n",
        "y_test_tensor = y_test_tensor.to(device)\n",
        "optimizer = optim.SGD(model.parameters(), lr=0.01)"
      ]
    },
    {
      "cell_type": "code",
      "execution_count": 39,
      "metadata": {
        "id": "q55KSqotXs4c",
        "colab": {
          "base_uri": "https://localhost:8080/"
        },
        "outputId": "7e61314c-28d2-432d-a9ab-e43ff99303fc"
      },
      "outputs": [
        {
          "output_type": "stream",
          "name": "stdout",
          "text": [
            "Epoch [100/500], Loss: 1.0960, Training Accuracy: 37.55%, Validation Accuracy: 30.92%\n",
            "Epoch [200/500], Loss: 0.7497, Training Accuracy: 36.37%, Validation Accuracy: 33.55%\n",
            "Epoch [300/500], Loss: 1.3203, Training Accuracy: 35.11%, Validation Accuracy: 30.92%\n",
            "Epoch [400/500], Loss: 0.8785, Training Accuracy: 37.71%, Validation Accuracy: 31.58%\n",
            "Epoch [500/500], Loss: 0.7839, Training Accuracy: 37.35%, Validation Accuracy: 34.87%\n"
          ]
        }
      ],
      "source": [
        "num_epochs = 500\n",
        "batch_size = 32\n",
        "for epoch in range(num_epochs):\n",
        "    model.train()\n",
        "    for i in range(0, len(X_train_tensor), batch_size):\n",
        "        inputs = X_train_tensor[i:i+batch_size]\n",
        "        labels = y_train_tensor[i:i+batch_size]\n",
        "\n",
        "        # Forward pass\n",
        "        outputs = model(inputs)\n",
        "        loss = criterion(outputs, labels)\n",
        "\n",
        "        # Backward pass and optimization\n",
        "        optimizer.zero_grad()\n",
        "        loss.backward()\n",
        "        optimizer.step()\n",
        "\n",
        "    if (epoch + 1) % 100 == 0:\n",
        "        model.eval()\n",
        "        with torch.no_grad():\n",
        "            train_outputs = model(X_train_tensor)\n",
        "            val_outputs = model(X_test_tensor)\n",
        "            _, train_predicted = torch.max(train_outputs, 1)\n",
        "            train_accuracy = accuracy_score(y_train, train_predicted.cpu().numpy())\n",
        "            _, test_predicted = torch.max(val_outputs, 1)\n",
        "            test_accuracy = accuracy_score(y_test, test_predicted.cpu().numpy())  # Move back to CPU for metrics\n",
        "            print(f'Epoch [{epoch+1}/{num_epochs}], Loss: {loss.item():.4f}, Training Accuracy: {train_accuracy * 100:.2f}%, Validation Accuracy: {test_accuracy * 100:.2f}%')\n",
        "        model.train()"
      ]
    },
    {
      "cell_type": "code",
      "source": [
        "data = pd.read_csv(\"/content/drive/MyDrive/test1_extracted_features.csv\")\n",
        "removed_column = data.pop('age')\n",
        "Y = pd.DataFrame({'age group': removed_column})\n",
        "X = data.values\n",
        "sc = StandardScaler()\n",
        "X = sc.fit_transform(X)\n",
        "label_mapping = {label: idx for idx, label in enumerate(np.unique(Y['age group']))}\n",
        "y_test = np.array([label_mapping[label] for label in Y['age group']])\n",
        "X_test= torch.tensor(X, dtype=torch.float32)\n",
        "X_test_tensor = torch.FloatTensor(X_test)\n",
        "X_test_tensor = X_test_tensor.to(device)"
      ],
      "metadata": {
        "id": "6rwl6-JCj1yB"
      },
      "execution_count": 28,
      "outputs": []
    },
    {
      "cell_type": "code",
      "execution_count": 31,
      "metadata": {
        "colab": {
          "base_uri": "https://localhost:8080/"
        },
        "id": "8Y2vHwWOXw_d",
        "outputId": "1c1e9bee-3fc7-42b5-b3f5-3dc662b8331d"
      },
      "outputs": [
        {
          "output_type": "stream",
          "name": "stdout",
          "text": [
            "Accuracy on the test set: 25.00%\n",
            "[7 7 7 7 7 7 7 7 7 7 7 7 7 7 7 7 7 7 7 7 7 7 7 7 7 7 7 7 7 7 7 7 7 7 7 7 7\n",
            " 7 7 7 7 7 7 7 7 7 7 7 7 7 7 7 7 7 7 7 7 7 7 7 7 7 7 7 7 7 7 7 7 7 7 7 7 7\n",
            " 7 7 7 7 7 7 7 7 7 7 7 7 7 7 7 7 7 7 7 7 7 7 7 7 7 7 7 7 7 7 7 7 7 7 7 7 7\n",
            " 7 7 7 7 7 7 7 7 7 7 7 7 7 7 7 7 7 7 7 7 7 7 7 7 7 7 7 7 7 7 7 7 7 7 7 7 7\n",
            " 7 7 7 7]\n",
            "              precision    recall  f1-score   support\n",
            "\n",
            "    eighties       0.00      0.00      0.00         1\n",
            "     fifties       0.00      0.00      0.00        24\n",
            "    fourties       0.00      0.00      0.00        22\n",
            "   seventies       0.00      0.00      0.00         5\n",
            "     sixties       0.00      0.00      0.00         8\n",
            "       teens       0.00      0.00      0.00         9\n",
            "    thirties       0.00      0.00      0.00        45\n",
            "    twenties       0.25      1.00      0.40        38\n",
            "\n",
            "    accuracy                           0.25       152\n",
            "   macro avg       0.03      0.12      0.05       152\n",
            "weighted avg       0.06      0.25      0.10       152\n",
            "\n"
          ]
        },
        {
          "output_type": "stream",
          "name": "stderr",
          "text": [
            "/usr/local/lib/python3.10/dist-packages/sklearn/metrics/_classification.py:1344: UndefinedMetricWarning: Precision and F-score are ill-defined and being set to 0.0 in labels with no predicted samples. Use `zero_division` parameter to control this behavior.\n",
            "  _warn_prf(average, modifier, msg_start, len(result))\n",
            "/usr/local/lib/python3.10/dist-packages/sklearn/metrics/_classification.py:1344: UndefinedMetricWarning: Precision and F-score are ill-defined and being set to 0.0 in labels with no predicted samples. Use `zero_division` parameter to control this behavior.\n",
            "  _warn_prf(average, modifier, msg_start, len(result))\n",
            "/usr/local/lib/python3.10/dist-packages/sklearn/metrics/_classification.py:1344: UndefinedMetricWarning: Precision and F-score are ill-defined and being set to 0.0 in labels with no predicted samples. Use `zero_division` parameter to control this behavior.\n",
            "  _warn_prf(average, modifier, msg_start, len(result))\n"
          ]
        }
      ],
      "source": [
        "model.eval()\n",
        "with torch.no_grad():\n",
        "    outputs = model(X_test_tensor)\n",
        "    _, predicted = torch.max(outputs, 1)\n",
        "    accuracy = accuracy_score(y_test, predicted.cpu().numpy())  # Move back to CPU for metrics\n",
        "    print(f'Accuracy on the test set: {accuracy * 100:.2f}%')\n",
        "\n",
        "# Convert predicted labels back to original age group strings\n",
        "predicted_labels = [label for label, idx in label_mapping.items() if idx in y_test]\n",
        "print(predicted.cpu().numpy())\n",
        "print(classification_report(y_test, predicted.cpu().numpy(), target_names=predicted_labels))"
      ]
    }
  ],
  "metadata": {
    "colab": {
      "provenance": [],
      "gpuType": "T4",
      "mount_file_id": "1fCSHTjJIBPH-TLZzGK6sr61hPhGxMXe2",
      "authorship_tag": "ABX9TyP2tTCr0YziKc+tJkE0VwFU",
      "include_colab_link": true
    },
    "kernelspec": {
      "display_name": "Python 3",
      "name": "python3"
    },
    "language_info": {
      "name": "python"
    },
    "accelerator": "GPU"
  },
  "nbformat": 4,
  "nbformat_minor": 0
}