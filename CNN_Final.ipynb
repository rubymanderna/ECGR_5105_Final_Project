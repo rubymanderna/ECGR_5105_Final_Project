{
 "cells": [
  {
   "cell_type": "code",
   "execution_count": 1,
   "id": "659c85b8-eb74-44f7-a709-3494fec734e1",
   "metadata": {
    "id": "659c85b8-eb74-44f7-a709-3494fec734e1"
   },
   "outputs": [],
   "source": [
    "import torch\n",
    "import torch.nn as nn\n",
    "import torch.optim as optim\n",
    "from torch.utils.data import DataLoader, TensorDataset\n",
    "from sklearn.model_selection import train_test_split\n",
    "from sklearn.preprocessing import LabelEncoder, StandardScaler\n",
    "import pandas as pd\n",
    "import numpy as np\n"
   ]
  },
  {
   "cell_type": "code",
   "execution_count": 3,
   "id": "f5521d44-e02b-4bbc-9382-4bc3842e7a30",
   "metadata": {
    "colab": {
     "base_uri": "https://localhost:8080/"
    },
    "id": "f5521d44-e02b-4bbc-9382-4bc3842e7a30",
    "outputId": "c53c7474-ab44-4d27-8bb5-a974bdf48c04"
   },
   "outputs": [
    {
     "name": "stdout",
     "output_type": "stream",
     "text": [
      "Using device: cuda\n"
     ]
    }
   ],
   "source": [
    "# Check if GPU is available and set device\n",
    "device = torch.device(\"cuda\" if torch.cuda.is_available() else \"cpu\")\n",
    "print(f\"Using device: {device}\")"
   ]
  },
  {
   "cell_type": "code",
   "execution_count": 4,
   "id": "73290e39-1a8b-4783-8822-256838d423f1",
   "metadata": {
    "id": "73290e39-1a8b-4783-8822-256838d423f1"
   },
   "outputs": [],
   "source": [
    "df = pd.read_csv('Desktop/ML_Final_Project/CNN_train_dataframe.csv')\n",
    "test_df = pd.read_csv('Desktop/ML_Final_Project/CNN_test_dataframe.csv')\n",
    "\n"
   ]
  },
  {
   "cell_type": "code",
   "execution_count": 5,
   "id": "7e252a52-9ce0-45c6-9912-94f40fa2de9d",
   "metadata": {
    "id": "7e252a52-9ce0-45c6-9912-94f40fa2de9d"
   },
   "outputs": [],
   "source": [
    "# Assuming `df` is your training DataFrame and `test_df` is your testing DataFrame\n",
    "X = df.drop('label', axis=1).values\n",
    "y = df['label'].values\n",
    "sc = StandardScaler()\n",
    "X = sc.fit_transform(X)\n",
    "# Encode labels\n",
    "label_encoder = LabelEncoder()\n",
    "y_encoded = label_encoder.fit_transform(y)\n",
    "\n",
    "# Determine the number of classes and input shape\n",
    "num_classes = len(set(y_encoded))\n",
    "input_shape = X.shape[1]\n",
    "\n",
    "\n",
    "# Split data into training and testing sets for the training dataset\n",
    "X_train, X_val, y_train, y_val = train_test_split(X, y_encoded, test_size=0.2, random_state=42)\n",
    "\n",
    "X_train_tensor = torch.Tensor(X_train).unsqueeze(1).to(device)\n",
    "y_train_tensor = torch.Tensor(y_train).long().to(device)\n",
    "X_val_tensor = torch.Tensor(X_val).unsqueeze(1).to(device)\n",
    "y_val_tensor = torch.Tensor(y_val).long().to(device)\n",
    "\n",
    "# Create dataset and dataloader for training\n",
    "train_dataset = TensorDataset(X_train_tensor, y_train_tensor)\n",
    "train_loader = DataLoader(train_dataset, batch_size=32, shuffle=True)"
   ]
  },
  {
   "cell_type": "code",
   "execution_count": 6,
   "id": "b4ecd113-757d-4b4b-a6f8-d4ea75715a56",
   "metadata": {
    "id": "b4ecd113-757d-4b4b-a6f8-d4ea75715a56"
   },
   "outputs": [],
   "source": [
    "\n",
    "import torch.nn.functional as F\n",
    "\n",
    "\n",
    "class ResidualBlock(nn.Module):\n",
    "    expansion = 1  # Set the expansion factor for the residual block\n",
    "\n",
    "    def __init__(self, in_channels, out_channels, stride=1, downsample=None, dropout_prob=0.8):\n",
    "        super(ResidualBlock, self).__init__()\n",
    "        self.conv1 = nn.Conv1d(in_channels, out_channels, kernel_size=3, stride=stride, padding=1)\n",
    "        self.bn1 = nn.BatchNorm1d(out_channels)\n",
    "        self.relu = nn.ReLU(inplace=True)\n",
    "        self.dropout = nn.Dropout(dropout_prob)  # Dropout layer\n",
    "        self.conv2 = nn.Conv1d(out_channels, out_channels, kernel_size=3, padding=1)\n",
    "        self.bn2 = nn.BatchNorm1d(out_channels)\n",
    "        self.downsample = downsample\n",
    "\n",
    "    def forward(self, x):\n",
    "        identity = x\n",
    "        out = self.conv1(x)\n",
    "        out = self.bn1(out)\n",
    "        out = self.relu(out)\n",
    "        out = self.dropout(out)  # Apply dropout\n",
    "        out = self.conv2(out)\n",
    "        out = self.bn2(out)\n",
    "\n",
    "        if self.downsample is not None:\n",
    "            identity = self.downsample(x)\n",
    "\n",
    "        out += identity\n",
    "        out = self.relu(out)\n",
    "        out = self.dropout(out)  # Apply dropout\n",
    "        return out\n",
    "\n",
    "class ResNetAudio(nn.Module):\n",
    "    def __init__(self, block, num_classes, dropout_prob=0.3):\n",
    "        super(ResNetAudio, self).__init__()\n",
    "        self.in_channels = 64\n",
    "        self.conv = nn.Conv1d(1, 64, kernel_size=7, stride=1, padding=3)\n",
    "        self.bn = nn.BatchNorm1d(64)\n",
    "        self.relu = nn.ReLU(inplace=True)\n",
    "        self.layer1 = self._make_layer(block, 32, 2, dropout_prob=dropout_prob)\n",
    "        self.layer2 = self._make_layer(block, 64, 2, stride=2, dropout_prob=dropout_prob)\n",
    "        self.layer3 = self._make_layer(block, 128, 2, stride=2, dropout_prob=dropout_prob)\n",
    "        self.layer4 = self._make_layer(block, 256, 2, stride=2, dropout_prob=dropout_prob)\n",
    "        self.avg_pool = nn.AdaptiveAvgPool1d(1)\n",
    "        self.fc = nn.Linear(256 * block.expansion, num_classes)  # Adjusted input size for the fully connected layer\n",
    "        self.dropout = nn.Dropout(dropout_prob)  # Dropout layer\n",
    "\n",
    "    def _make_layer(self, block, out_channels, blocks, stride=1, dropout_prob=0.5):\n",
    "        downsample = None\n",
    "        if stride != 1 or self.in_channels != out_channels * block.expansion:\n",
    "            downsample = nn.Sequential(\n",
    "                nn.Conv1d(self.in_channels, out_channels * block.expansion, kernel_size=1, stride=stride),\n",
    "                nn.BatchNorm1d(out_channels * block.expansion),\n",
    "            )\n",
    "\n",
    "        layers = []\n",
    "        layers.append(block(self.in_channels, out_channels, stride, downsample, dropout_prob=dropout_prob))\n",
    "        self.in_channels = out_channels * block.expansion\n",
    "        for _ in range(1, blocks):\n",
    "            layers.append(block(out_channels * block.expansion, out_channels, dropout_prob=dropout_prob))\n",
    "\n",
    "        return nn.Sequential(*layers)\n",
    "\n",
    "    def forward(self, x):\n",
    "        x = self.conv(x)\n",
    "        x = self.bn(x)\n",
    "        x = self.relu(x)\n",
    "        x = self.layer1(x)\n",
    "        x = self.layer2(x)\n",
    "        x = self.layer3(x)\n",
    "        x = self.layer4(x)\n",
    "        x = self.avg_pool(x)\n",
    "        x = x.view(x.size(0), -1)\n",
    "        x = self.dropout(x)  # Apply dropout\n",
    "        x = self.fc(x)\n",
    "        return x"
   ]
  },
  {
   "cell_type": "code",
   "execution_count": 7,
   "id": "638f287c-5267-4572-9a1e-92a43c7f8f17",
   "metadata": {
    "id": "638f287c-5267-4572-9a1e-92a43c7f8f17"
   },
   "outputs": [],
   "source": [
    "import torch\n",
    "import torch.nn as nn\n",
    "from sklearn.utils.class_weight import compute_class_weight\n",
    "# Assuming you have defined your train_loader, X_val_tensor, y_val_tensor, and other necessary variables\n",
    "\n",
    "model = ResNetAudio(ResidualBlock, num_classes=num_classes).to(device)\n",
    "\n",
    "class_weights = compute_class_weight('balanced', classes=np.unique(y_train), y=y_train)\n",
    "class_weights_tensor = torch.tensor(class_weights, dtype=torch.float).to(device)\n",
    "\n",
    "criterion = nn.CrossEntropyLoss()\n",
    "optimizer = optim.Adam(model.parameters(), lr=0.0001)"
   ]
  },
  {
   "cell_type": "code",
   "execution_count": 8,
   "id": "2317c526-86bb-4048-a334-483b7cbb3006",
   "metadata": {
    "colab": {
     "base_uri": "https://localhost:8080/"
    },
    "id": "2317c526-86bb-4048-a334-483b7cbb3006",
    "outputId": "b0a18c14-7f84-4fa5-d579-b8a4ff20261e"
   },
   "outputs": [
    {
     "name": "stdout",
     "output_type": "stream",
     "text": [
      "Epoch 1, Loss: 0.057728610717603705, Train Accuracy: 27.222557557989134%, Val Accuracy: 31.0%\n",
      "Epoch 101, Loss: 0.04400908506008081, Train Accuracy: 47.08976459429163%, Val Accuracy: 48.06896551724138%\n",
      "Epoch 201, Loss: 0.034812432928949616, Train Accuracy: 58.08398723807882%, Val Accuracy: 61.0%\n",
      "Epoch 301, Loss: 0.028206273775897562, Train Accuracy: 66.77589031646114%, Val Accuracy: 66.10344827586206%\n",
      "Epoch 401, Loss: 0.02450253061562805, Train Accuracy: 71.6564628783306%, Val Accuracy: 68.10344827586206%\n",
      "Epoch 501, Loss: 0.01997153745845154, Train Accuracy: 76.51978960075881%, Val Accuracy: 71.55172413793103%\n",
      "Epoch 601, Loss: 0.017070630791270136, Train Accuracy: 79.81374493403467%, Val Accuracy: 72.20689655172414%\n",
      "Epoch 701, Loss: 0.016170149141111652, Train Accuracy: 80.96921617659739%, Val Accuracy: 72.27586206896551%\n",
      "Epoch 801, Loss: 0.015258218021786315, Train Accuracy: 82.19367077692506%, Val Accuracy: 72.9655172413793%\n",
      "Epoch 901, Loss: 0.01343535009289421, Train Accuracy: 84.82366129171336%, Val Accuracy: 73.3103448275862%\n",
      "Epoch 1001, Loss: 0.011999292019200528, Train Accuracy: 86.63447443304302%, Val Accuracy: 73.62068965517241%\n",
      "Epoch 1101, Loss: 0.014168265830178378, Train Accuracy: 84.02172975769595%, Val Accuracy: 73.03448275862068%\n",
      "Epoch 1201, Loss: 0.01213984052389873, Train Accuracy: 86.50513063723376%, Val Accuracy: 73.9655172413793%\n",
      "Epoch 1301, Loss: 0.011203214789584063, Train Accuracy: 87.25532465292748%, Val Accuracy: 74.55172413793103%\n",
      "Epoch 1401, Loss: 0.011453989093017094, Train Accuracy: 86.65172027248427%, Val Accuracy: 74.24137931034483%\n"
     ]
    }
   ],
   "source": [
    "from torch.optim import lr_scheduler\n",
    "\n",
    "scheduler = lr_scheduler.StepLR(optimizer, step_size=350, gamma=2)\n",
    "\n",
    "num_epochs = 1500\n",
    "for epoch in range(num_epochs):\n",
    "    model.train()\n",
    "    running_loss = 0.0\n",
    "    correct_train_predictions = 0\n",
    "    total_train_predictions = 0\n",
    "\n",
    "    for inputs, labels in train_loader:\n",
    "        inputs, labels = inputs.to(device), labels.to(device)  # Move data to GPU\n",
    "\n",
    "        optimizer.zero_grad()\n",
    "\n",
    "        # Forward pass\n",
    "        outputs = model(inputs)\n",
    "        loss = criterion(outputs, labels)\n",
    "        loss.backward()\n",
    "        optimizer.step()\n",
    "\n",
    "        # Accumulate training loss and accuracy\n",
    "        running_loss += loss.item()\n",
    "        _, predicted = torch.max(outputs, 1)\n",
    "        correct_train_predictions += (predicted == labels).sum().item()\n",
    "        total_train_predictions += labels.size(0)\n",
    "\n",
    "    train_accuracy = correct_train_predictions / total_train_predictions * 100\n",
    "\n",
    "    # Update the learning rate\n",
    "    scheduler.step()\n",
    "\n",
    "    # Validation accuracy\n",
    "    if epoch % 100 == 0:\n",
    "        model.eval()  # Set the model to evaluation mode\n",
    "        correct_val_predictions = 0\n",
    "        total_val_predictions = 0\n",
    "        with torch.no_grad():\n",
    "            val_outputs = model(X_val_tensor)\n",
    "            _, predicted = torch.max(val_outputs, 1)\n",
    "            correct_val_predictions += (predicted == y_val_tensor).sum().item()\n",
    "            total_val_predictions += y_val_tensor.size(0)\n",
    "\n",
    "        test_accuracy = correct_val_predictions / total_val_predictions * 100\n",
    "        model.train()  # Set the model back to training mode\n",
    "        print(f\"Epoch {epoch + 1}, Loss: {running_loss / total_train_predictions}, Train Accuracy: {train_accuracy}%, Val Accuracy: {test_accuracy}%\")\n"
   ]
  },
  {
   "cell_type": "code",
   "execution_count": 9,
   "id": "91e6fc4e-9cd1-4fb9-baa4-cc1b17e13935",
   "metadata": {
    "colab": {
     "base_uri": "https://localhost:8080/",
     "height": 245
    },
    "id": "91e6fc4e-9cd1-4fb9-baa4-cc1b17e13935",
    "outputId": "793de5fd-8fb4-49f9-c067-474310782244"
   },
   "outputs": [
    {
     "name": "stdout",
     "output_type": "stream",
     "text": [
      "Classification Report:\n",
      "               precision    recall  f1-score   support\n",
      "\n",
      "    eighties       1.00      1.00      1.00         5\n",
      "     fifties       0.78      0.71      0.75       205\n",
      "    fourties       0.75      0.69      0.72       236\n",
      "   seventies       0.82      0.75      0.78        36\n",
      "     sixties       0.82      0.82      0.82        88\n",
      "       teens       0.92      0.56      0.70       117\n",
      "    thirties       0.71      0.74      0.72       389\n",
      "    twenties       0.68      0.78      0.72       466\n",
      "\n",
      "    accuracy                           0.73      1542\n",
      "   macro avg       0.81      0.76      0.78      1542\n",
      "weighted avg       0.74      0.73      0.73      1542\n",
      "\n",
      "Confusion Matrix:\n",
      " [[  5   0   0   0   0   0   0   0]\n",
      " [  0 146   7   1   1   0  22  28]\n",
      " [  0   7 164   1   3   2  18  41]\n",
      " [  0   2   2  27   0   0   2   3]\n",
      " [  0   4   2   0  72   0   8   2]\n",
      " [  0   5   4   0   0  66  15  27]\n",
      " [  0   9  16   3   3   0 286  72]\n",
      " [  0  13  24   1   9   4  52 363]]\n"
     ]
    },
    {
     "data": {
      "image/png": "[encoded data removed]",
      "text/plain": [
       "<Figure size 800x600 with 2 Axes>"
      ]
     },
     "metadata": {},
     "output_type": "display_data"
    }
   ],
   "source": [
    "from sklearn.metrics import classification_report, confusion_matrix\n",
    "import seaborn as sns\n",
    "import matplotlib.pyplot as plt\n",
    "\n",
    "# Assuming you have defined your model and label_encoder before this point\n",
    "\n",
    "# Assuming 'test_df' is your test dataset\n",
    "\n",
    "# Convert the test data to PyTorch tensors and move to GPU\n",
    "X_test = test_df.drop('label', axis=1).values\n",
    "X_test = sc.fit_transform(X_test)\n",
    "y_test = test_df['label'].values\n",
    "y_test_encoded = label_encoder.transform(y_test)\n",
    "\n",
    "X_test_tensor = torch.Tensor(X_test).unsqueeze(1).to(device)\n",
    "y_test_tensor = torch.Tensor(y_test_encoded).long().to(device)\n",
    "\n",
    "# Evaluate the model on the test dataset\n",
    "model.eval()\n",
    "with torch.no_grad():\n",
    "    test_outputs = model(X_test_tensor)\n",
    "    _, predicted = torch.max(test_outputs, 1)\n",
    "    predicted = predicted.cpu().numpy()\n",
    "    y_test_encoded = y_test_encoded.astype(int)\n",
    "\n",
    "# Generate a classification report\n",
    "report = classification_report(y_test_encoded, predicted, target_names=label_encoder.classes_)\n",
    "print(\"Classification Report:\\n\", report)\n",
    "\n",
    "# Generate a confusion matrix\n",
    "conf_matrix = confusion_matrix(y_test_encoded, predicted)\n",
    "print(\"Confusion Matrix:\\n\", conf_matrix)\n",
    "\n",
    "# Plot the confusion matrix using seaborn\n",
    "plt.figure(figsize=(8, 6))\n",
    "sns.heatmap(conf_matrix, annot=True, fmt='d', cmap='Blues', xticklabels=label_encoder.classes_, yticklabels=label_encoder.classes_)\n",
    "plt.title('Confusion Matrix')\n",
    "plt.xlabel('Predicted')\n",
    "plt.ylabel('True')\n",
    "plt.show()\n"
   ]
  },
  {
   "cell_type": "code",
   "execution_count": null,
   "id": "92832613-de8c-4dbd-84ba-279c9c11ecde",
   "metadata": {
    "id": "92832613-de8c-4dbd-84ba-279c9c11ecde"
   },
   "outputs": [],
   "source": []
  }
 ],
 "metadata": {
  "accelerator": "GPU",
  "colab": {
   "gpuType": "T4",
   "provenance": []
  },
  "kernelspec": {
   "display_name": "Python 3 (ipykernel)",
   "language": "python",
   "name": "python3"
  },
  "language_info": {
   "codemirror_mode": {
    "name": "ipython",
    "version": 3
   },
   "file_extension": ".py",
   "mimetype": "text/x-python",
   "name": "python",
   "nbconvert_exporter": "python",
   "pygments_lexer": "ipython3",
   "version": "3.9.8"
  }
 },
 "nbformat": 4,
 "nbformat_minor": 5
}
