{
 "cells": [
  {
   "cell_type": "markdown",
   "metadata": {
    "colab_type": "text",
    "id": "view-in-github"
   },
   "source": [
    "<a href=\"https://colab.research.google.com/github/saikrishna1108/ECGR_5105_Final_Project/blob/main/ClassicalML.ipynb\" target=\"_parent\"><img src=\"https://colab.research.google.com/assets/colab-badge.svg\" alt=\"Open In Colab\"/></a>"
   ]
  },
  {
   "cell_type": "code",
   "execution_count": 13,
   "metadata": {
    "id": "h3y6rEIBWNyJ"
   },
   "outputs": [],
   "source": [
    "from sklearn.linear_model import LinearRegression\n",
    "from sklearn.metrics import mean_squared_error\n",
    "import numpy as np\n",
    "import pandas as pd\n",
    "from sklearn.preprocessing import StandardScaler\n",
    "from sklearn.model_selection import train_test_split\n"
   ]
  },
  {
   "cell_type": "code",
   "execution_count": 4,
   "metadata": {
    "colab": {
     "base_uri": "https://localhost:8080/"
    },
    "id": "8Q_eme68WSFW",
    "outputId": "677dac1e-bcea-4304-fa57-789117b442f9"
   },
   "outputs": [
    {
     "data": {
      "text/plain": [
       "(30694, 23)"
      ]
     },
     "execution_count": 4,
     "metadata": {},
     "output_type": "execute_result"
    }
   ],
   "source": [
    "data = pd.read_csv(r\"C:\\Users\\saikr\\Desktop\\ML_Final_Project\\train_dataframe.csv\")\n",
    "removed_column = data.pop('label')\n",
    "Y = pd.DataFrame({'age group': removed_column})\n",
    "X = data\n",
    "X.shape"
   ]
  },
  {
   "cell_type": "code",
   "execution_count": 5,
   "metadata": {
    "id": "amedUFGkWXIv"
   },
   "outputs": [],
   "source": [
    "x_train, x_test, y_train, y_test = train_test_split(X, Y, test_size=0.2, random_state=42)\n"
   ]
  },
  {
   "cell_type": "code",
   "execution_count": 6,
   "metadata": {
    "colab": {
     "base_uri": "https://localhost:8080/"
    },
    "id": "EcKbIM7NWbDM",
    "outputId": "97ba61e9-9f9a-421c-bf05-45dcb1bb1121"
   },
   "outputs": [
    {
     "name": "stderr",
     "output_type": "stream",
     "text": [
      "C:\\Users\\saikr\\AppData\\Local\\Programs\\Python\\Python39\\lib\\site-packages\\sklearn\\preprocessing\\_label.py:132: DataConversionWarning: A column-vector y was passed when a 1d array was expected. Please change the shape of y to (n_samples, ), for example using ravel().\n",
      "  y = column_or_1d(y, dtype=self.classes_.dtype, warn=True)\n"
     ]
    },
    {
     "data": {
      "text/plain": [
       "array([1, 7, 1, 6, 6, 7, 6, 4, 1, 6, 1, 2, 2, 7, 5, 1, 4, 7, 4, 7, 6, 6,\n",
       "       7, 7, 1, 7, 7, 6, 4, 6, 6, 1, 1, 7, 1, 7, 6, 7, 7, 1, 6, 4, 3, 7,\n",
       "       6, 1, 5, 2, 6, 4])"
      ]
     },
     "execution_count": 6,
     "metadata": {},
     "output_type": "execute_result"
    }
   ],
   "source": [
    "from sklearn.preprocessing import LabelEncoder\n",
    "\n",
    "def get_labels(data):\n",
    "    labels = data.iloc[:, -1]\n",
    "    encoder = LabelEncoder()\n",
    "    labels = encoder.fit_transform(labels)\n",
    "    return labels, encoder\n",
    "\n",
    "y_train, encoder = get_labels(y_train)\n",
    "y_test = encoder.transform(y_test)\n",
    "y_test = y_test.ravel()\n",
    "y_train = y_train.ravel()\n",
    "y_test[:50]"
   ]
  },
  {
   "cell_type": "code",
   "execution_count": 7,
   "metadata": {
    "id": "xonXXQAOWcGH"
   },
   "outputs": [],
   "source": [
    "sc = StandardScaler()\n",
    "x_train= sc.fit_transform(x_train)\n",
    "x_test = sc.fit_transform(x_test)\n",
    "n = X.shape[1]"
   ]
  },
  {
   "cell_type": "code",
   "execution_count": 8,
   "metadata": {
    "colab": {
     "base_uri": "https://localhost:8080/"
    },
    "id": "F09BjYpQVUTk",
    "outputId": "c81c40bb-d5e1-4b6f-c236-089df5599962"
   },
   "outputs": [
    {
     "name": "stdout",
     "output_type": "stream",
     "text": [
      "Mean Squared Error (Linear Regression): 4.784751932118226\n",
      "Coefficients: [ 0.15263885  0.10455818 -0.25643841 -0.07949798  0.29272398 -0.09871471\n",
      " -0.0756885   0.12767099 -0.03035823  0.07590471 -0.05310831  0.10672793\n",
      " -0.1317305   0.13382866 -0.16343016 -0.12536358 -0.18167868  0.1838082\n",
      "  0.04962402  0.21386255  0.03666087  0.12658821 -0.17229504]\n",
      "Intercept: 4.783262064752595\n",
      "R-squared (Linear Regression): 0.05904036812111235\n"
     ]
    }
   ],
   "source": [
    "\n",
    "\n",
    "# Assuming x_train, y_train, x_test, y_test are your training and testing data\n",
    "\n",
    "# Linear Regression\n",
    "linear_reg_model = LinearRegression()\n",
    "\n",
    "# Training the model\n",
    "linear_reg_model.fit(x_train, y_train)\n",
    "\n",
    "# Predicting on the test set\n",
    "y_pred_linear = linear_reg_model.predict(x_test)\n",
    "\n",
    "# Evaluating the model\n",
    "mse_linear = mean_squared_error(y_test, y_pred_linear)\n",
    "print(f\"Mean Squared Error (Linear Regression): {mse_linear}\")\n",
    "\n",
    "# If you want to access the coefficients and intercept:\n",
    "coefficients = linear_reg_model.coef_\n",
    "intercept = linear_reg_model.intercept_\n",
    "\n",
    "print(\"Coefficients:\", coefficients)\n",
    "print(\"Intercept:\", intercept)\n",
    "\n",
    "# Accuracy for regression is not applicable, but you can print R-squared\n",
    "r_squared = linear_reg_model.score(x_test, y_test)\n",
    "print(f\"R-squared (Linear Regression): {r_squared}\")\n"
   ]
  },
  {
   "cell_type": "code",
   "execution_count": 9,
   "metadata": {
    "colab": {
     "base_uri": "https://localhost:8080/"
    },
    "id": "Pq2HcroqYPy1",
    "outputId": "dd8ec678-e878-418a-a025-56d5aa65fe35"
   },
   "outputs": [
    {
     "name": "stdout",
     "output_type": "stream",
     "text": [
      "Accuracy (Logistic Regression): 0.36064505619807785\n",
      "Classification Report (Logistic Regression):\n",
      "               precision    recall  f1-score   support\n",
      "\n",
      "           0       0.00      0.00      0.00        27\n",
      "           1       0.28      0.06      0.10       806\n",
      "           2       0.28      0.10      0.15       851\n",
      "           3       0.00      0.00      0.00       122\n",
      "           4       0.37      0.07      0.12       393\n",
      "           5       0.48      0.03      0.05       470\n",
      "           6       0.33      0.39      0.36      1522\n",
      "           7       0.38      0.74      0.50      1948\n",
      "\n",
      "    accuracy                           0.36      6139\n",
      "   macro avg       0.27      0.17      0.16      6139\n",
      "weighted avg       0.34      0.36      0.29      6139\n",
      "\n"
     ]
    },
    {
     "name": "stderr",
     "output_type": "stream",
     "text": [
      "C:\\Users\\saikr\\AppData\\Local\\Programs\\Python\\Python39\\lib\\site-packages\\sklearn\\linear_model\\_logistic.py:460: ConvergenceWarning: lbfgs failed to converge (status=1):\n",
      "STOP: TOTAL NO. of ITERATIONS REACHED LIMIT.\n",
      "\n",
      "Increase the number of iterations (max_iter) or scale the data as shown in:\n",
      "    https://scikit-learn.org/stable/modules/preprocessing.html\n",
      "Please also refer to the documentation for alternative solver options:\n",
      "    https://scikit-learn.org/stable/modules/linear_model.html#logistic-regression\n",
      "  n_iter_i = _check_optimize_result(\n",
      "C:\\Users\\saikr\\AppData\\Local\\Programs\\Python\\Python39\\lib\\site-packages\\sklearn\\metrics\\_classification.py:1471: UndefinedMetricWarning: Precision and F-score are ill-defined and being set to 0.0 in labels with no predicted samples. Use `zero_division` parameter to control this behavior.\n",
      "  _warn_prf(average, modifier, msg_start, len(result))\n",
      "C:\\Users\\saikr\\AppData\\Local\\Programs\\Python\\Python39\\lib\\site-packages\\sklearn\\metrics\\_classification.py:1471: UndefinedMetricWarning: Precision and F-score are ill-defined and being set to 0.0 in labels with no predicted samples. Use `zero_division` parameter to control this behavior.\n",
      "  _warn_prf(average, modifier, msg_start, len(result))\n",
      "C:\\Users\\saikr\\AppData\\Local\\Programs\\Python\\Python39\\lib\\site-packages\\sklearn\\metrics\\_classification.py:1471: UndefinedMetricWarning: Precision and F-score are ill-defined and being set to 0.0 in labels with no predicted samples. Use `zero_division` parameter to control this behavior.\n",
      "  _warn_prf(average, modifier, msg_start, len(result))\n"
     ]
    }
   ],
   "source": [
    "from sklearn.linear_model import LogisticRegression\n",
    "from sklearn.metrics import accuracy_score, classification_report\n",
    "\n",
    "# Assuming x_train, y_train, x_test, y_test are your training and testing data\n",
    "\n",
    "# Logistic Regression\n",
    "logistic_reg_model = LogisticRegression()\n",
    "\n",
    "# Training the model\n",
    "logistic_reg_model.fit(x_train, y_train)\n",
    "\n",
    "# Predicting on the test set\n",
    "y_pred_logistic = logistic_reg_model.predict(x_test)\n",
    "\n",
    "# Evaluating the model\n",
    "accuracy_logistic = accuracy_score(y_test, y_pred_logistic)\n",
    "classification_report_logistic = classification_report(y_test, y_pred_logistic)\n",
    "\n",
    "print(f\"Accuracy (Logistic Regression): {accuracy_logistic}\")\n",
    "print(\"Classification Report (Logistic Regression):\\n\", classification_report_logistic)\n",
    "\n"
   ]
  },
  {
   "cell_type": "code",
   "execution_count": null,
   "metadata": {
    "colab": {
     "base_uri": "https://localhost:8080/"
    },
    "id": "iU7LsIYUaN1J",
    "outputId": "7d9f4198-f3ac-4f36-b11b-657ac4c121ab"
   },
   "outputs": [],
   "source": [
    "from sklearn.svm import SVC\n",
    "from sklearn.metrics import accuracy_score, classification_report, confusion_matrix\n",
    "import seaborn as sns\n",
    "import matplotlib.pyplot as plt\n",
    "\n",
    "\n",
    "# Create and train the SVM model with RBF kernel\n",
    "svc_model_rbf = SVC(kernel='rbf', C=10)\n",
    "svc_model_rbf.fit(x_train, y_train)\n",
    "\n",
    "# Predicting on the test set\n",
    "y_pred_svc_rbf = svc_model_rbf.predict(x_test)\n",
    "\n",
    "# Evaluating the model\n",
    "accuracy_svc_rbf = accuracy_score(y_test, y_pred_svc_rbf)\n",
    "classification_report_svc_rbf = classification_report(y_test, y_pred_svc_rbf)\n",
    "conf_matrix_svc_rbf = confusion_matrix(y_test, y_pred_svc_rbf)\n",
    "\n",
    "print(f\"Accuracy (SVC with RBF kernel): {accuracy_svc_rbf}\")\n",
    "print(\"Classification Report (SVC with RBF kernel):\\n\", classification_report_svc_rbf)\n",
    "print(\"Confusion Matrix (SVC with RBF kernel):\\n\", conf_matrix_svc_rbf)\n",
    "\n",
    "# Plotting the confusion matrix\n",
    "plt.figure(figsize=(8, 6))\n",
    "sns.heatmap(conf_matrix_svc_rbf, annot=True, fmt=\"d\", cmap=\"Blues\", cbar=False,\n",
    "            xticklabels=svc_model_rbf.classes_, yticklabels=svc_model_rbf.classes_)\n",
    "plt.xlabel('Predicted')\n",
    "plt.ylabel('True')\n",
    "plt.title('Confusion Matrix (SVC with RBF kernel)')\n",
    "plt.show()\n"
   ]
  },
  {
   "cell_type": "code",
   "execution_count": 12,
   "metadata": {
    "colab": {
     "base_uri": "https://localhost:8080/"
    },
    "id": "v4QAHR-baFhI",
    "outputId": "15ce9a7d-3bda-4908-8630-61f95bae193d"
   },
   "outputs": [
    {
     "name": "stderr",
     "output_type": "stream",
     "text": [
      "C:\\Users\\saikr\\AppData\\Local\\Programs\\Python\\Python39\\lib\\site-packages\\joblib\\externals\\loky\\backend\\context.py:136: UserWarning: Could not find the number of physical cores for the following reason:\n",
      "found 0 physical cores < 1\n",
      "Returning the number of logical cores instead. You can silence this warning by setting LOKY_MAX_CPU_COUNT to the number of cores you want to use.\n",
      "  warnings.warn(\n",
      "  File \"C:\\Users\\saikr\\AppData\\Local\\Programs\\Python\\Python39\\lib\\site-packages\\joblib\\externals\\loky\\backend\\context.py\", line 282, in _count_physical_cores\n",
      "    raise ValueError(f\"found {cpu_count_physical} physical cores < 1\")\n"
     ]
    },
    {
     "name": "stdout",
     "output_type": "stream",
     "text": [
      "Accuracy (KNeighborsClassifier): 0.8540478905359179\n",
      "Classification Report (KNeighborsClassifier):\n",
      "               precision    recall  f1-score   support\n",
      "\n",
      "           0       0.88      0.81      0.85        27\n",
      "           1       0.86      0.87      0.87       806\n",
      "           2       0.83      0.86      0.84       851\n",
      "           3       0.73      0.89      0.80       122\n",
      "           4       0.85      0.92      0.88       393\n",
      "           5       0.86      0.78      0.82       470\n",
      "           6       0.85      0.86      0.85      1522\n",
      "           7       0.88      0.85      0.86      1948\n",
      "\n",
      "    accuracy                           0.85      6139\n",
      "   macro avg       0.84      0.85      0.85      6139\n",
      "weighted avg       0.86      0.85      0.85      6139\n",
      "\n"
     ]
    }
   ],
   "source": [
    "from sklearn.neighbors import KNeighborsClassifier\n",
    "from sklearn.metrics import accuracy_score, classification_report\n",
    "\n",
    "# Create KNeighborsClassifier model\n",
    "knn_model = KNeighborsClassifier(n_neighbors=1)  # You can adjust the number of neighbors (n_neighbors) as needed\n",
    "\n",
    "# Training the model\n",
    "knn_model.fit(x_train, y_train)\n",
    "\n",
    "# Predicting on the test set\n",
    "y_pred_knn = knn_model.predict(x_test)\n",
    "\n",
    "# Evaluating the model\n",
    "accuracy_knn = accuracy_score(y_test, y_pred_knn)\n",
    "classification_report_knn = classification_report(y_test, y_pred_knn)\n",
    "\n",
    "print(f\"Accuracy (KNeighborsClassifier): {accuracy_knn}\")\n",
    "print(\"Classification Report (KNeighborsClassifier):\\n\", classification_report_knn)\n"
   ]
  },
  {
   "cell_type": "code",
   "execution_count": null,
   "metadata": {},
   "outputs": [],
   "source": []
  }
 ],
 "metadata": {
  "colab": {
   "authorship_tag": "ABX9TyMoZrQBS4am00eJR1cFbpR7",
   "include_colab_link": true,
   "mount_file_id": "1dNo2WQWTpj2NiBzmBLtB6TFbFCUDWRwZ",
   "provenance": []
  },
  "kernelspec": {
   "display_name": "Python 3 (ipykernel)",
   "language": "python",
   "name": "python3"
  },
  "language_info": {
   "codemirror_mode": {
    "name": "ipython",
    "version": 3
   },
   "file_extension": ".py",
   "mimetype": "text/x-python",
   "name": "python",
   "nbconvert_exporter": "python",
   "pygments_lexer": "ipython3",
   "version": "3.9.8"
  }
 },
 "nbformat": 4,
 "nbformat_minor": 4
}
